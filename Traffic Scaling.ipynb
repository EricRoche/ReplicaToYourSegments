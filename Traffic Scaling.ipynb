{
 "cells": [
  {
   "cell_type": "code",
   "execution_count": 1,
   "metadata": {},
   "outputs": [],
   "source": [
    "import pandas as pd\n",
    "import numpy as np\n",
    "from sklearn.preprocessing import MinMaxScaler\n",
    "from sklearn.preprocessing import minmax_scale"
   ]
  },
  {
   "cell_type": "code",
   "execution_count": 2,
   "metadata": {},
   "outputs": [
    {
     "name": "stderr",
     "output_type": "stream",
     "text": [
      "/anaconda3/lib/python3.6/site-packages/IPython/core/interactiveshell.py:2785: DtypeWarning: Columns (18,19) have mixed types. Specify dtype option on import or set low_memory=False.\n",
      "  interactivity=interactivity, compiler=compiler, result=result)\n"
     ]
    }
   ],
   "source": [
    "df = pd.read_csv('Fully_Joined_OCI_Traffic_Table.csv')"
   ]
  },
  {
   "cell_type": "code",
   "execution_count": 3,
   "metadata": {
    "scrolled": true
   },
   "outputs": [
    {
     "data": {
      "text/plain": [
       "Index(['OBJECTID_12', 'Join_Count', 'TARGET_FID', 'OBJECTID_1', 'OBJECTID',\n",
       "       'CITY_ID', 'KIVAPIN', 'LAYER', 'L_F_ADD', 'L_T_ADD', 'R_F_ADD',\n",
       "       'R_T_ADD', 'PREFIX', 'STREETNAME', 'STREETTYPE', 'SUFFIX', 'LZIP',\n",
       "       'RZIP', 'L_PLA_CODE', 'R_PLA_CODE', 'ONEWAYCODE', 'SPEED_LIMI',\n",
       "       'MajorStree', 'ParkMaint', 'StreetPres', 'Shape_Leng', 'Status',\n",
       "       'Maintenanc', 'Maintena_1', 'zID', 'zPaveClass', 'zLegFunCla',\n",
       "       'zStreet', 'zFrom', 'zTo', 'zLength', 'zWidth', 'zArea', 'zEstOCI',\n",
       "       'zInspectID', 'zInspectBy', 'zInspectDa', 'zInspectOC', 'zDate',\n",
       "       'BUFF_DIST', 'ORIG_FID', 'link_id', 'volume', 'geometry',\n",
       "       'Shape_Leng.1', 'Field1', 'link_id.1', 'volume_x', 'geometry.1',\n",
       "       'link_id_plus', 'link_id_minus', 'volume_y', 'link_id_plus_exists',\n",
       "       'link_id_minus_exists', 'link_id_is_even', 'mean_traffic_volume',\n",
       "       'standard_deviation_traffic_volume', 'drop_this_observation',\n",
       "       'ORIG_FID.1', 'Shape_Length'],\n",
       "      dtype='object')"
      ]
     },
     "execution_count": 3,
     "metadata": {},
     "output_type": "execute_result"
    }
   ],
   "source": [
    "df.columns"
   ]
  },
  {
   "cell_type": "code",
   "execution_count": 4,
   "metadata": {},
   "outputs": [],
   "source": [
    "df = df[['OBJECTID_12', 'OBJECTID_1', 'OBJECTID', 'CITY_ID', \n",
    "      'zEstOCI', 'zInspectOC', 'link_id', 'mean_traffic_volume', \n",
    "        'standard_deviation_traffic_volume']]"
   ]
  },
  {
   "cell_type": "code",
   "execution_count": 5,
   "metadata": {},
   "outputs": [],
   "source": [
    "df['scaled_traffic_volume'] = \"\""
   ]
  },
  {
   "cell_type": "code",
   "execution_count": 6,
   "metadata": {},
   "outputs": [],
   "source": [
    "#df = df.fillna(-1)"
   ]
  },
  {
   "cell_type": "code",
   "execution_count": 7,
   "metadata": {},
   "outputs": [
    {
     "data": {
      "text/plain": [
       "OBJECTID_12                            int64\n",
       "OBJECTID_1                             int64\n",
       "OBJECTID                               int64\n",
       "CITY_ID                                int64\n",
       "zEstOCI                               object\n",
       "zInspectOC                           float64\n",
       "link_id                              float64\n",
       "mean_traffic_volume                  float64\n",
       "standard_deviation_traffic_volume    float64\n",
       "scaled_traffic_volume                 object\n",
       "dtype: object"
      ]
     },
     "execution_count": 7,
     "metadata": {},
     "output_type": "execute_result"
    }
   ],
   "source": [
    "df.dtypes"
   ]
  },
  {
   "cell_type": "code",
   "execution_count": 8,
   "metadata": {},
   "outputs": [
    {
     "data": {
      "text/plain": [
       "0            NaN\n",
       "1         9216.0\n",
       "2         3020.0\n",
       "3         3235.0\n",
       "4          115.0\n",
       "5            NaN\n",
       "6            NaN\n",
       "7           29.0\n",
       "8         2667.0\n",
       "9           54.5\n",
       "10          44.0\n",
       "11         275.5\n",
       "12          73.0\n",
       "13          92.0\n",
       "14         927.5\n",
       "15         149.0\n",
       "16         225.0\n",
       "17        1277.5\n",
       "18         142.0\n",
       "19       10086.5\n",
       "20        9987.0\n",
       "21          54.0\n",
       "22         125.0\n",
       "23        1578.0\n",
       "24        7773.0\n",
       "25        1721.5\n",
       "26          40.0\n",
       "27           NaN\n",
       "28         524.0\n",
       "29         102.5\n",
       "          ...   \n",
       "35404      183.5\n",
       "35405      101.0\n",
       "35406        NaN\n",
       "35407        NaN\n",
       "35408        NaN\n",
       "35409        NaN\n",
       "35410       85.5\n",
       "35411        NaN\n",
       "35412       42.0\n",
       "35413        NaN\n",
       "35414     1367.0\n",
       "35415        NaN\n",
       "35416      552.0\n",
       "35417        NaN\n",
       "35418       34.0\n",
       "35419      121.5\n",
       "35420      830.0\n",
       "35421     2577.5\n",
       "35422       62.0\n",
       "35423      580.5\n",
       "35424        NaN\n",
       "35425       45.0\n",
       "35426        NaN\n",
       "35427     2824.0\n",
       "35428       22.0\n",
       "35429        NaN\n",
       "35430        NaN\n",
       "35431      105.0\n",
       "35432       80.5\n",
       "35433        NaN\n",
       "Name: mean_traffic_volume, Length: 35434, dtype: float64"
      ]
     },
     "execution_count": 8,
     "metadata": {},
     "output_type": "execute_result"
    }
   ],
   "source": [
    "df['mean_traffic_volume'].astype(float)"
   ]
  },
  {
   "cell_type": "code",
   "execution_count": 9,
   "metadata": {},
   "outputs": [],
   "source": [
    "df['mean_traffic_volume'] = df.mean_traffic_volume.fillna(-1)"
   ]
  },
  {
   "cell_type": "code",
   "execution_count": 10,
   "metadata": {},
   "outputs": [],
   "source": [
    "#Need to strip out anything that isn't -1\n",
    "#So split them into two datasets for recombining later\n",
    "dftemp1 = df[df['mean_traffic_volume'] > -1].copy()\n",
    "dftemp2 = df[df['mean_traffic_volume'] == -1].copy()"
   ]
  },
  {
   "cell_type": "code",
   "execution_count": 11,
   "metadata": {},
   "outputs": [],
   "source": [
    "#Now scale dftemp1\n",
    "dftemp1['scaled_traffic_volume'] = minmax_scale(dftemp1.mean_traffic_volume, feature_range=(0, 100))"
   ]
  },
  {
   "cell_type": "code",
   "execution_count": 12,
   "metadata": {},
   "outputs": [],
   "source": [
    "#Let's create an index column that is the following:\n",
    "# Traffic X  (1-OCI)\n",
    "dftemp1['EmphasisIndex'] = dftemp1['scaled_traffic_volume'].astype(float)*(100-dftemp1['zInspectOC'])"
   ]
  },
  {
   "cell_type": "code",
   "execution_count": 13,
   "metadata": {},
   "outputs": [],
   "source": [
    "#Add new column before concatenatin to dftemp2\n",
    "dftemp2['EmphasisIndex'] = -1"
   ]
  },
  {
   "cell_type": "code",
   "execution_count": 14,
   "metadata": {},
   "outputs": [],
   "source": [
    "#recombine both temp tables into df\n",
    "df = pd.concat([dftemp1, dftemp2])"
   ]
  },
  {
   "cell_type": "code",
   "execution_count": 15,
   "metadata": {},
   "outputs": [],
   "source": [
    "#write to csv\n",
    "#-1 basically indicates we have incomplete data on it"
   ]
  },
  {
   "cell_type": "code",
   "execution_count": 16,
   "metadata": {},
   "outputs": [],
   "source": [
    "df.to_csv('scaled_traffic_oci_data.csv')"
   ]
  },
  {
   "cell_type": "code",
   "execution_count": 17,
   "metadata": {},
   "outputs": [
    {
     "data": {
      "text/plain": [
       "Index(['OBJECTID_12', 'OBJECTID_1', 'OBJECTID', 'CITY_ID', 'zEstOCI',\n",
       "       'zInspectOC', 'link_id', 'mean_traffic_volume',\n",
       "       'standard_deviation_traffic_volume', 'scaled_traffic_volume',\n",
       "       'EmphasisIndex'],\n",
       "      dtype='object')"
      ]
     },
     "execution_count": 17,
     "metadata": {},
     "output_type": "execute_result"
    }
   ],
   "source": [
    "df.columns"
   ]
  },
  {
   "cell_type": "code",
   "execution_count": 18,
   "metadata": {},
   "outputs": [],
   "source": [
    "#And let's create a version for linking that is much simpler\n",
    "dfsimplified = df[['CITY_ID', 'EmphasisIndex']]"
   ]
  },
  {
   "cell_type": "code",
   "execution_count": 19,
   "metadata": {},
   "outputs": [],
   "source": [
    "dfsimplified.to_csv('simple_scaled_traffic_oci_data.csv')"
   ]
  },
  {
   "cell_type": "code",
   "execution_count": 21,
   "metadata": {},
   "outputs": [
    {
     "data": {
      "text/plain": [
       "Index(['OBJECTID_12', 'OBJECTID_1', 'OBJECTID', 'CITY_ID', 'zEstOCI',\n",
       "       'zInspectOC', 'link_id', 'mean_traffic_volume',\n",
       "       'standard_deviation_traffic_volume', 'scaled_traffic_volume',\n",
       "       'EmphasisIndex'],\n",
       "      dtype='object')"
      ]
     },
     "execution_count": 21,
     "metadata": {},
     "output_type": "execute_result"
    }
   ],
   "source": [
    "df.columns"
   ]
  },
  {
   "cell_type": "code",
   "execution_count": 23,
   "metadata": {},
   "outputs": [],
   "source": [
    "#Let's also export a random selection of City_IDs to check manually for proper testing\n",
    "randomsample = df[['CITY_ID', 'mean_traffic_volume', 'zEstOCI']]"
   ]
  },
  {
   "cell_type": "code",
   "execution_count": 25,
   "metadata": {},
   "outputs": [
    {
     "data": {
      "text/plain": [
       "(35434, 3)"
      ]
     },
     "execution_count": 25,
     "metadata": {},
     "output_type": "execute_result"
    }
   ],
   "source": [
    "#With a population size of 35434 and a Confidence Interval of 95%, 5% margin of error,\n",
    "#and a 50% population proportion we need a sample of 381\n",
    "randomsample.shape"
   ]
  },
  {
   "cell_type": "code",
   "execution_count": 30,
   "metadata": {},
   "outputs": [
    {
     "name": "stdout",
     "output_type": "stream",
     "text": [
      "random sample size (rows, cols) (381, 3)\n"
     ]
    }
   ],
   "source": [
    "#Make a random selection\n",
    "randomsample = randomsample.sample(n=381)\n",
    "print(\"random sample size (rows, cols)\", randomsample.shape)"
   ]
  },
  {
   "cell_type": "code",
   "execution_count": 31,
   "metadata": {},
   "outputs": [],
   "source": [
    "#randomsample.to_csv('randomsample.csv')"
   ]
  }
 ],
 "metadata": {
  "kernelspec": {
   "display_name": "Python 3",
   "language": "python",
   "name": "python3"
  },
  "language_info": {
   "codemirror_mode": {
    "name": "ipython",
    "version": 3
   },
   "file_extension": ".py",
   "mimetype": "text/x-python",
   "name": "python",
   "nbconvert_exporter": "python",
   "pygments_lexer": "ipython3",
   "version": "3.6.5"
  }
 },
 "nbformat": 4,
 "nbformat_minor": 2
}
